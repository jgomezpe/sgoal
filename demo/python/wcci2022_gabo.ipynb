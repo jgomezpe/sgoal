{
  "cells": [
    {
      "cell_type": "markdown",
      "metadata": {
        "id": "view-in-github",
        "colab_type": "text"
      },
      "source": [
        "<a href=\"https://colab.research.google.com/github/jgomezpe/sgoal/blob/main/demo/python/wcci2022_gabo.ipynb\" target=\"_parent\"><img src=\"https://colab.research.google.com/assets/colab-badge.svg\" alt=\"Open In Colab\"/></a>"
      ]
    },
    {
      "cell_type": "markdown",
      "metadata": {
        "id": "MqrfRRhyFHDB"
      },
      "source": [
        "# GABO: Gene Analysis Base Optimization\n",
        "This notebook contains the python code used for getting the results reported in the paper \"GABO: Gene Analysis Base Optimization\" written by Professors Jonatan Gomez and Elizabeth Leon from Universidad Nacional de Colombia and accepted in the IEEE World Congress on Computational Intelligence - WCCI 2022."
      ]
    },
    {
      "cell_type": "markdown",
      "metadata": {
        "id": "UHGmtJB9F81S"
      },
      "source": [
        "Algorithms are written using the **sgoal** library that can be obtained from the guthub of professor Jonatan Gomez: https://github.com/jgomezpe/. \n",
        "To run scripts in this notebook, you must clone the repository running the following script. It will create the *sgoal* folder. If you already cloned it and you do not want to update it, just skip this step:"
      ]
    },
    {
      "cell_type": "code",
      "execution_count": 1,
      "metadata": {
        "colab": {
          "base_uri": "https://localhost:8080/"
        },
        "id": "LgeABK9jHo02",
        "outputId": "16d7c5c2-11a5-4524-9762-415ade9da6d6"
      },
      "outputs": [
        {
          "output_type": "stream",
          "name": "stdout",
          "text": [
            "Cloning into 'sgoal'...\n",
            "remote: Enumerating objects: 86, done.\u001b[K\n",
            "remote: Total 86 (delta 0), reused 0 (delta 0), pack-reused 86\u001b[K\n",
            "Unpacking objects: 100% (86/86), done.\n"
          ]
        }
      ],
      "source": [
        "!git clone https://github.com/jgomezpe/sgoal.git"
      ]
    },
    {
      "cell_type": "markdown",
      "metadata": {
        "id": "rC6SP4w3Hv2L"
      },
      "source": [
        "If you have already cloned the repository with the **sgoal** library and you want to retrieve the newest one, run the following script and then run option *Restart runtime* under *Runtime* menu, otherwise skip this step:"
      ]
    },
    {
      "cell_type": "code",
      "execution_count": 2,
      "metadata": {
        "colab": {
          "base_uri": "https://localhost:8080/"
        },
        "id": "swwjCXFzECT3",
        "outputId": "66c9996e-2bf6-4a1c-bb66-25e82e784514"
      },
      "outputs": [
        {
          "output_type": "stream",
          "name": "stdout",
          "text": [
            "/content/sgoal\n",
            "Already up to date.\n"
          ]
        }
      ],
      "source": [
        "%cd /content/sgoal\n",
        "! git pull "
      ]
    },
    {
      "cell_type": "markdown",
      "metadata": {
        "id": "a-M-J_tHGnOk"
      },
      "source": [
        "Now you have to mount the *sgoal* folder and you have to add the python path to the system (add permissions to connect to drive when required):"
      ]
    },
    {
      "cell_type": "code",
      "execution_count": 1,
      "metadata": {
        "colab": {
          "base_uri": "https://localhost:8080/"
        },
        "id": "JUj0sUz6G3q0",
        "outputId": "b726f36f-9df3-47ec-e483-f0ceb983700b"
      },
      "outputs": [
        {
          "output_type": "stream",
          "name": "stdout",
          "text": [
            "Mounted at /sgoal\n"
          ]
        }
      ],
      "source": [
        "from google.colab import drive\n",
        "import os, sys\n",
        "\n",
        "drive.mount('/sgoal', force_remount=True) \n",
        "# adding python to the system path\n",
        "sys.path.insert(0, 'sgoal/python/')"
      ]
    },
    {
      "cell_type": "markdown",
      "metadata": {
        "id": "PEQpVkK_ONwX"
      },
      "source": [
        "Now you can run each one of the algorithms on the testbed functions\n"
      ]
    },
    {
      "cell_type": "markdown",
      "metadata": {
        "id": "iVJQ_bk3c4nk"
      },
      "source": [
        "##Experiments\n",
        "Comparing GABO, GSC1, and RMHC"
      ]
    },
    {
      "cell_type": "code",
      "execution_count": 2,
      "metadata": {
        "colab": {
          "base_uri": "https://localhost:8080/",
          "height": 443
        },
        "id": "0k0Xa6bYMLaT",
        "outputId": "5e626f85-6cb6-40b2-a2c9-6880f85e4ca3"
      },
      "outputs": [
        {
          "output_type": "stream",
          "name": "stdout",
          "text": [
            "================= 120 =================\n",
            "*************** MaxOnes ***************\n",
            "SGOAL SR MAX STD ITER STD BUDGET STD\n",
            "GABO 100.0 120.0 0.0 118.92 1.31 364.0 0.0\n"
          ]
        },
        {
          "output_type": "error",
          "ename": "KeyboardInterrupt",
          "evalue": "ignored",
          "traceback": [
            "\u001b[0;31m---------------------------------------------------------------------------\u001b[0m",
            "\u001b[0;31mKeyboardInterrupt\u001b[0m                         Traceback (most recent call last)",
            "\u001b[0;32m<ipython-input-2-b5da25e2d432>\u001b[0m in \u001b[0;36m<module>\u001b[0;34m()\u001b[0m\n\u001b[1;32m     73\u001b[0m \u001b[0;32mfor\u001b[0m \u001b[0mi\u001b[0m \u001b[0;32min\u001b[0m \u001b[0mrange\u001b[0m\u001b[0;34m(\u001b[0m\u001b[0mEXP\u001b[0m\u001b[0;34m)\u001b[0m\u001b[0;34m:\u001b[0m\u001b[0;34m\u001b[0m\u001b[0;34m\u001b[0m\u001b[0m\n\u001b[1;32m     74\u001b[0m   \u001b[0minit\u001b[0m\u001b[0;34m(\u001b[0m\u001b[0;34m)\u001b[0m\u001b[0;34m\u001b[0m\u001b[0;34m\u001b[0m\u001b[0m\n\u001b[0;32m---> 75\u001b[0;31m   \u001b[0my\u001b[0m\u001b[0;34m,\u001b[0m \u001b[0mfy\u001b[0m \u001b[0;34m=\u001b[0m \u001b[0mGSC1\u001b[0m\u001b[0;34m(\u001b[0m\u001b[0mtestbed\u001b[0m\u001b[0;34m[\u001b[0m\u001b[0mFUNCTION\u001b[0m\u001b[0;34m]\u001b[0m\u001b[0;34m,\u001b[0m \u001b[0mMAX_EVALS\u001b[0m\u001b[0;34m,\u001b[0m \u001b[0mbitstring\u001b[0m\u001b[0;34m(\u001b[0m\u001b[0mD\u001b[0m\u001b[0;34m)\u001b[0m\u001b[0;34m)\u001b[0m\u001b[0;34m\u001b[0m\u001b[0;34m\u001b[0m\u001b[0m\n\u001b[0m\u001b[1;32m     76\u001b[0m   \u001b[0mfx\u001b[0m\u001b[0;34m.\u001b[0m\u001b[0mappend\u001b[0m\u001b[0;34m(\u001b[0m\u001b[0mfy\u001b[0m\u001b[0;34m)\u001b[0m\u001b[0;34m\u001b[0m\u001b[0;34m\u001b[0m\u001b[0m\n\u001b[1;32m     77\u001b[0m   \u001b[0msr\u001b[0m \u001b[0;34m+=\u001b[0m \u001b[0;36m1\u001b[0m \u001b[0;32mif\u001b[0m \u001b[0msuccess_evaluation\u001b[0m\u001b[0;34m(\u001b[0m\u001b[0mOPTIMUM\u001b[0m\u001b[0;34m[\u001b[0m\u001b[0mFUNCTION\u001b[0m\u001b[0;34m]\u001b[0m\u001b[0;34m)\u001b[0m \u001b[0;34m!=\u001b[0m \u001b[0;34m-\u001b[0m\u001b[0;36m1\u001b[0m \u001b[0;32melse\u001b[0m \u001b[0;36m0\u001b[0m\u001b[0;34m\u001b[0m\u001b[0;34m\u001b[0m\u001b[0m\n",
            "\u001b[0;32m/content/sgoal/python/binary.py\u001b[0m in \u001b[0;36mGSC1\u001b[0;34m(f, evals, x, fx)\u001b[0m\n\u001b[1;32m    176\u001b[0m \u001b[0;31m# fx: f value at point x (if provided)\u001b[0m\u001b[0;34m\u001b[0m\u001b[0;34m\u001b[0m\u001b[0;34m\u001b[0m\u001b[0m\n\u001b[1;32m    177\u001b[0m \u001b[0;32mdef\u001b[0m \u001b[0mGSC1\u001b[0m\u001b[0;34m(\u001b[0m \u001b[0mf\u001b[0m\u001b[0;34m,\u001b[0m \u001b[0mevals\u001b[0m\u001b[0;34m,\u001b[0m \u001b[0mx\u001b[0m\u001b[0;34m,\u001b[0m \u001b[0mfx\u001b[0m\u001b[0;34m=\u001b[0m\u001b[0;32mNone\u001b[0m \u001b[0;34m)\u001b[0m\u001b[0;34m:\u001b[0m\u001b[0;34m\u001b[0m\u001b[0;34m\u001b[0m\u001b[0m\n\u001b[0;32m--> 178\u001b[0;31m   \u001b[0mx\u001b[0m\u001b[0;34m,\u001b[0m \u001b[0mfx\u001b[0m\u001b[0;34m,\u001b[0m \u001b[0mS1\u001b[0m\u001b[0;34m,\u001b[0m \u001b[0mfS1\u001b[0m \u001b[0;34m=\u001b[0m \u001b[0mGS1\u001b[0m\u001b[0;34m(\u001b[0m\u001b[0mf\u001b[0m\u001b[0;34m,\u001b[0m \u001b[0mevals\u001b[0m\u001b[0;34m-\u001b[0m\u001b[0;36m1\u001b[0m\u001b[0;34m,\u001b[0m \u001b[0mx\u001b[0m\u001b[0;34m,\u001b[0m \u001b[0mfx\u001b[0m\u001b[0;34m)\u001b[0m\u001b[0;34m\u001b[0m\u001b[0;34m\u001b[0m\u001b[0m\n\u001b[0m\u001b[1;32m    179\u001b[0m   \u001b[0mxc\u001b[0m \u001b[0;34m=\u001b[0m \u001b[0mcomplement\u001b[0m\u001b[0;34m(\u001b[0m\u001b[0mx\u001b[0m\u001b[0;34m)\u001b[0m\u001b[0;34m\u001b[0m\u001b[0;34m\u001b[0m\u001b[0m\n\u001b[1;32m    180\u001b[0m   \u001b[0mfxc\u001b[0m \u001b[0;34m=\u001b[0m \u001b[0mevaluate\u001b[0m\u001b[0;34m(\u001b[0m\u001b[0mf\u001b[0m\u001b[0;34m,\u001b[0m\u001b[0mxc\u001b[0m\u001b[0;34m)\u001b[0m\u001b[0;34m\u001b[0m\u001b[0;34m\u001b[0m\u001b[0m\n",
            "\u001b[0;32m/content/sgoal/python/binary.py\u001b[0m in \u001b[0;36mGS1\u001b[0;34m(f, evals, x, fx)\u001b[0m\n\u001b[1;32m    157\u001b[0m   \u001b[0;32mfor\u001b[0m \u001b[0mk\u001b[0m \u001b[0;32min\u001b[0m \u001b[0mrange\u001b[0m\u001b[0;34m(\u001b[0m\u001b[0mD\u001b[0m\u001b[0;34m)\u001b[0m\u001b[0;34m:\u001b[0m\u001b[0;34m\u001b[0m\u001b[0;34m\u001b[0m\u001b[0m\n\u001b[1;32m    158\u001b[0m     \u001b[0;32mfor\u001b[0m \u001b[0mi\u001b[0m \u001b[0;32min\u001b[0m \u001b[0mrange\u001b[0m\u001b[0;34m(\u001b[0m\u001b[0mM\u001b[0m\u001b[0;34m)\u001b[0m\u001b[0;34m:\u001b[0m\u001b[0;34m\u001b[0m\u001b[0;34m\u001b[0m\u001b[0m\n\u001b[0;32m--> 159\u001b[0;31m       \u001b[0mfH\u001b[0m\u001b[0;34m[\u001b[0m\u001b[0mS1\u001b[0m\u001b[0;34m[\u001b[0m\u001b[0mi\u001b[0m\u001b[0;34m]\u001b[0m\u001b[0;34m[\u001b[0m\u001b[0mk\u001b[0m\u001b[0;34m]\u001b[0m\u001b[0;34m]\u001b[0m\u001b[0;34m[\u001b[0m\u001b[0mk\u001b[0m\u001b[0;34m]\u001b[0m \u001b[0;34m+=\u001b[0m \u001b[0mfS1\u001b[0m\u001b[0;34m[\u001b[0m\u001b[0mi\u001b[0m\u001b[0;34m]\u001b[0m\u001b[0;34m\u001b[0m\u001b[0;34m\u001b[0m\u001b[0m\n\u001b[0m\u001b[1;32m    160\u001b[0m       \u001b[0mC\u001b[0m\u001b[0;34m[\u001b[0m\u001b[0mS1\u001b[0m\u001b[0;34m[\u001b[0m\u001b[0mi\u001b[0m\u001b[0;34m]\u001b[0m\u001b[0;34m[\u001b[0m\u001b[0mk\u001b[0m\u001b[0;34m]\u001b[0m\u001b[0;34m]\u001b[0m\u001b[0;34m[\u001b[0m\u001b[0mk\u001b[0m\u001b[0;34m]\u001b[0m \u001b[0;34m+=\u001b[0m \u001b[0;36m1\u001b[0m\u001b[0;34m\u001b[0m\u001b[0;34m\u001b[0m\u001b[0m\n\u001b[1;32m    161\u001b[0m   \u001b[0;31m# Generates a candidate solution with the best genes\u001b[0m\u001b[0;34m\u001b[0m\u001b[0;34m\u001b[0m\u001b[0;34m\u001b[0m\u001b[0m\n",
            "\u001b[0;31mKeyboardInterrupt\u001b[0m: "
          ]
        }
      ],
      "source": [
        "from binary import maxones\n",
        "from binary import deceptive\n",
        "from binary import boundedly\n",
        "from binary import royalroad8\n",
        "from binary import mixed\n",
        "from binary import bitstring\n",
        "from binary import bit_mutation\n",
        "from binary import bitstring_population\n",
        "from sgoal import simple_crossover\n",
        "from sgoal import transposition\n",
        "from sgoal import init\n",
        "from sgoal import best_evaluation\n",
        "from sgoal import success_evaluation\n",
        "from sgoal import evaluations\n",
        "from sgoal import stats\n",
        "from binary import GSC1\n",
        "from binary import RMHC\n",
        "from ga import GGA\n",
        "from ga import SSGA\n",
        "from chavela import CHAVELA\n",
        "from gabo import GABO\n",
        "\n",
        "def round(x): return (int(100*x+0.5))/100\n",
        "  \n",
        "# Paper reported values\n",
        "def report(sgoal, fx, iter, budget, sr):\n",
        "  sr *= 100/len(fx)\n",
        "  avg, std = stats(fx)\n",
        "  avg, std = round(avg), round(std)  \n",
        "  avg_iter, std_iter = stats(iter)\n",
        "  avg_iter, std_iter = round(avg_iter), round(std_iter)  \n",
        "  avg_budget, std_budget = stats(budget)\n",
        "  avg_budget, std_budget = round(avg_budget), round(std_budget)  \n",
        "  print(sgoal, sr, avg, std, avg_iter, std_iter, avg_budget,  std_budget)\n",
        "  return avg, std, avg_iter, std_iter, avg_budget, std_budget\n",
        "\n",
        "EXP = 100 # Number of experiments\n",
        "\n",
        "D = 120 # Bitstring length\n",
        "print('=================', D, '=================')\n",
        "\n",
        "MAX_EVALS = 100*D # Maximum number of function evaluations carried on by gabo (may require less thatn those)\n",
        "\n",
        "#Function\n",
        "testbed = [maxones, deceptive, boundedly, royalroad8, mixed] # Testbed\n",
        "name = ['MaxOnes','GD3','GBD4','RR1','Mixed']\n",
        "FUNCTION = 0 # Testing the deceptive function. Change the number accordingly\n",
        "OPTIMUM = [D, 10*D, D, D, 47*D//20] # Optimum value of the associated test function\n",
        "\n",
        "print('***************', name[FUNCTION], '***************')\n",
        "\n",
        "print('SGOAL SR MAX STD ITER STD BUDGET STD')\n",
        "fx = [] # Function value reached by the sgoal\n",
        "iter = [] # Iter when the best value is reached by the sgoal\n",
        "budget = [] # Number of fuction evaluations carried on by the sgoal\n",
        "sr = 0 # Success rate of the sgoal\n",
        "\n",
        "#GABO experiment\n",
        "for i in range(EXP):\n",
        "  init()\n",
        "  y, fy = GABO(testbed[FUNCTION], MAX_EVALS, bitstring(D))\n",
        "  fx.append(fy)\n",
        "  sr += 1 if success_evaluation(OPTIMUM[FUNCTION]) != -1 else 0\n",
        "  iter.append(best_evaluation()[1])\n",
        "  budget.append(evaluations())\n",
        "report('GABO', fx, iter, budget, sr)\n",
        "\n",
        "#GSC1 experiment\n",
        "fx = [] \n",
        "iter = [] \n",
        "budget = []\n",
        "sr = 0\n",
        "for i in range(EXP):\n",
        "  init()\n",
        "  y, fy = GSC1(testbed[FUNCTION], MAX_EVALS, bitstring(D))\n",
        "  fx.append(fy)\n",
        "  sr += 1 if success_evaluation(OPTIMUM[FUNCTION]) != -1 else 0\n",
        "  iter.append(best_evaluation()[1])\n",
        "  budget.append(MAX_EVALS)\n",
        "report('GSC1', fx, iter, budget, sr)\n",
        "\n",
        "#RMHC experiment\n",
        "fx = [] \n",
        "iter = [] \n",
        "budget = []\n",
        "sr = 0\n",
        "for i in range(EXP):\n",
        "  init()\n",
        "  y, fy = RMHC(testbed[FUNCTION], MAX_EVALS, bitstring(D))\n",
        "  fx.append(fy)\n",
        "  sr += 1 if success_evaluation(OPTIMUM[FUNCTION]) != -1 else 0\n",
        "  iter.append(best_evaluation()[1])\n",
        "  budget.append(MAX_EVALS)\n",
        "report('RMHC', fx, iter, budget, sr)\n",
        "\n",
        "#GGA\n",
        "fx = [] \n",
        "iter = [] \n",
        "budget = []\n",
        "sr = 0\n",
        "for i in range(EXP):\n",
        "  init()\n",
        "  P, fP, evals = SSGA(testbed[FUNCTION], MAX_EVALS, 0.7, simple_crossover, bit_mutation, bitstring_population(100,D))\n",
        "  sr += 1 if success_evaluation(OPTIMUM[FUNCTION]) != -1 else 0\n",
        "  fy, k = best_evaluation()\n",
        "  fx.append(fy)\n",
        "  iter.append(k)\n",
        "  budget.append(MAX_EVALS)\n",
        "report('SSGA', fx, iter, budget, sr)\n",
        "\n",
        "#GGA\n",
        "fx = [] \n",
        "iter = [] \n",
        "budget = []\n",
        "sr = 0\n",
        "for i in range(EXP):\n",
        "  init()\n",
        "  P, fP, evals = GGA(testbed[FUNCTION], MAX_EVALS, 0.7, simple_crossover, bit_mutation, bitstring_population(100,D))\n",
        "  sr += 1 if success_evaluation(OPTIMUM[FUNCTION]) != -1 else 0\n",
        "  fy, k = best_evaluation()\n",
        "  fx.append(fy)\n",
        "  iter.append(k)\n",
        "  budget.append(MAX_EVALS)\n",
        "report('GGA', fx, iter, budget, sr)\n",
        "\n",
        "#CHAVELA\n",
        "fx = [] \n",
        "iter = [] \n",
        "budget = []\n",
        "sr = 0\n",
        "for i in range(EXP):\n",
        "  init()\n",
        "  P, fP, evals, rates = CHAVELA(testbed[FUNCTION], MAX_EVALS, [simple_crossover, bit_mutation, transposition], bitstring_population(100,D))\n",
        "  sr += 1 if success_evaluation(OPTIMUM[FUNCTION]) != -1 else 0\n",
        "  fy, k = best_evaluation()\n",
        "  fx.append(fy)\n",
        "  iter.append(k)\n",
        "  budget.append(MAX_EVALS)\n",
        "report('CHAVELA', fx, iter, budget, sr)\n"
      ]
    }
  ],
  "metadata": {
    "colab": {
      "name": "wcci2022-gabo.ipynb",
      "provenance": [],
      "authorship_tag": "ABX9TyMPMeJjv4pbxb3z8tgqOjvD",
      "include_colab_link": true
    },
    "kernelspec": {
      "display_name": "Python 3",
      "name": "python3"
    },
    "language_info": {
      "name": "python"
    }
  },
  "nbformat": 4,
  "nbformat_minor": 0
}