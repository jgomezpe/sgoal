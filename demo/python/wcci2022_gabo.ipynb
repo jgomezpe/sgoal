{
  "cells": [
    {
      "cell_type": "markdown",
      "metadata": {
        "id": "view-in-github",
        "colab_type": "text"
      },
      "source": [
        "<a href=\"https://colab.research.google.com/github/jgomezpe/sgoal/blob/main/demo/python/wcci2022_gabo.ipynb\" target=\"_parent\"><img src=\"https://colab.research.google.com/assets/colab-badge.svg\" alt=\"Open In Colab\"/></a>"
      ]
    },
    {
      "cell_type": "markdown",
      "metadata": {
        "id": "MqrfRRhyFHDB"
      },
      "source": [
        "# GABO: Gene Analysis Base Optimization\n",
        "This notebook contains the python code used for getting the results reported in the paper \"GABO: Gene Analysis Base Optimization\" written by Professors Jonatan Gomez and Elizabeth Leon from Universidad Nacional de Colombia and accepted in the IEEE World Congress on Computational Intelligence - WCCI 2022."
      ]
    },
    {
      "cell_type": "markdown",
      "metadata": {
        "id": "UHGmtJB9F81S"
      },
      "source": [
        "Algorithms are written using the **sgoal** library that can be obtained from the github of professor Jonatan Gomez: https://github.com/jgomezpe/. \n",
        "To run scripts in this notebook, you must clone the repository running the following script. It will create the *sgoal* folder. If you already cloned it and you do not want to update it, just skip this step:"
      ]
    },
    {
      "cell_type": "code",
      "execution_count": 1,
      "metadata": {
        "colab": {
          "base_uri": "https://localhost:8080/"
        },
        "id": "LgeABK9jHo02",
        "outputId": "0b300e67-54e8-4ae9-b00e-6e921b588103"
      },
      "outputs": [
        {
          "output_type": "stream",
          "name": "stdout",
          "text": [
            "Cloning into 'sgoal'...\n",
            "remote: Enumerating objects: 118, done.\u001b[K\n",
            "remote: Counting objects: 100% (32/32), done.\u001b[K\n",
            "remote: Compressing objects: 100% (30/30), done.\u001b[K\n",
            "remote: Total 118 (delta 10), reused 0 (delta 0), pack-reused 86\u001b[K\n",
            "Receiving objects: 100% (118/118), 47.85 KiB | 3.42 MiB/s, done.\n",
            "Resolving deltas: 100% (40/40), done.\n"
          ]
        }
      ],
      "source": [
        "!git clone https://github.com/jgomezpe/sgoal.git"
      ]
    },
    {
      "cell_type": "markdown",
      "metadata": {
        "id": "rC6SP4w3Hv2L"
      },
      "source": [
        "If you have already cloned the repository with the **sgoal** library and you want to retrieve the newest one, run the following script and then run option *Restart runtime* under *Runtime* menu, otherwise skip this step:"
      ]
    },
    {
      "cell_type": "code",
      "execution_count": 2,
      "metadata": {
        "colab": {
          "base_uri": "https://localhost:8080/"
        },
        "id": "swwjCXFzECT3",
        "outputId": "edb36a0e-2ee0-4f4a-9155-7df65419586b"
      },
      "outputs": [
        {
          "output_type": "stream",
          "name": "stdout",
          "text": [
            "/content/sgoal\n",
            "Already up to date.\n"
          ]
        }
      ],
      "source": [
        "%cd /content/sgoal\n",
        "! git pull "
      ]
    },
    {
      "cell_type": "markdown",
      "metadata": {
        "id": "a-M-J_tHGnOk"
      },
      "source": [
        "Now you have to mount the *sgoal* folder and you have to add the python path to the system (add permissions to connect to drive when required):"
      ]
    },
    {
      "cell_type": "code",
      "execution_count": 7,
      "metadata": {
        "colab": {
          "base_uri": "https://localhost:8080/"
        },
        "id": "JUj0sUz6G3q0",
        "outputId": "e5462599-6d1a-4412-da46-c7d11dca9324"
      },
      "outputs": [
        {
          "output_type": "stream",
          "name": "stdout",
          "text": [
            "Mounted at /sgoal\n"
          ]
        }
      ],
      "source": [
        "from google.colab import drive\n",
        "import os, sys\n",
        "\n",
        "drive.mount('/sgoal', force_remount=True) \n",
        "# adding python to the system path\n",
        "sys.path.append('/content/sgoal/python/')"
      ]
    },
    {
      "cell_type": "markdown",
      "metadata": {
        "id": "PEQpVkK_ONwX"
      },
      "source": [
        "Now you can run each one of the algorithms on the testbed functions\n"
      ]
    },
    {
      "cell_type": "markdown",
      "metadata": {
        "id": "iVJQ_bk3c4nk"
      },
      "source": [
        "##Experiments\n",
        "Comparing GABO, GSC1, RMHC, SSGA, GGA, and CHAVELA"
      ]
    },
    {
      "cell_type": "code",
      "execution_count": 11,
      "metadata": {
        "colab": {
          "base_uri": "https://localhost:8080/"
        },
        "id": "0k0Xa6bYMLaT",
        "outputId": "4a52c535-0f56-404b-86bd-31306b8c0ea3"
      },
      "outputs": [
        {
          "output_type": "stream",
          "name": "stdout",
          "text": [
            "================= 120 =================\n",
            "*************** Mixed ***************\n",
            "SGOAL SR MAX STD ITER STD BUDGET STD\n",
            "GABO 50.0 274.8 8.35 7638.0 2060.54 12000.0 0.0\n",
            "[266, 282, 282, 266, 282, 274, 258, 282, 282, 274]\n",
            "GSC1 0.0 208.8 2.36 11999.0 0.0 12000.0 0.0\n",
            "[214, 209, 209, 207, 207, 209, 211, 210, 206, 206]\n",
            "RMHC 0.0 261.8 6.52 8878.2 1319.92 12000.0 0.0\n",
            "[268, 250, 256, 259, 268, 272, 260, 268, 259, 258]\n",
            "SSGA 0.0 245.7 7.34 4692.7 2807.79 12000.0 0.0\n",
            "[248, 235, 259, 252, 244, 246, 246, 252, 234, 241]\n",
            "GGA 0.0 253.5 10.56 7670.7 2548.43 12000.0 0.0\n",
            "[262, 247, 246, 260, 230, 252, 261, 259, 249, 269]\n",
            "CHAVELA 30.0 276.3 6.12 10928.1 1193.9 12000.0 0.0\n",
            "[282, 281, 272, 282, 280, 265, 268, 272, 282, 279]\n"
          ]
        }
      ],
      "source": [
        "from binary import maxones\n",
        "from binary import deceptive\n",
        "from binary import boundedly\n",
        "from binary import royalroad8\n",
        "from binary import mixed\n",
        "from binary import bitstring\n",
        "from binary import bit_mutation\n",
        "from binary import bitstring_population\n",
        "from sgoal import simple_crossover\n",
        "from sgoal import transposition\n",
        "from sgoal import init\n",
        "from sgoal import best_evaluation\n",
        "from sgoal import success_evaluation\n",
        "from sgoal import evaluations\n",
        "from sgoal import stats\n",
        "from binary import GSC1\n",
        "from binary import RMHC\n",
        "from ga import basic_binary_GGA\n",
        "from ga import basic_binary_SSGA\n",
        "from chavela import CHAVELA\n",
        "from gabo import GABO\n",
        "\n",
        "import pandas as pd\n",
        "df = pd.DataFrame()\n",
        "dfiter = pd.DataFrame()\n",
        "\n",
        "def round(x): return (int(100*x+0.5))/100\n",
        "\n",
        "# Paper reported values\n",
        "def report(sgoal, fx, iter, budget, sr):\n",
        "  sr *= 100/len(fx)\n",
        "  avg, std = stats(fx)\n",
        "  avg, std = round(avg), round(std)  \n",
        "  avg_iter, std_iter = stats(iter)\n",
        "  avg_iter, std_iter = round(avg_iter), round(std_iter)  \n",
        "  avg_budget, std_budget = stats(budget)\n",
        "  avg_budget, std_budget = round(avg_budget), round(std_budget)  \n",
        "  print(sgoal, sr, avg, std, avg_iter, std_iter, avg_budget,  std_budget) \n",
        "  return avg, std, avg_iter, std_iter, avg_budget, std_budget\n",
        "\n",
        "EXP = 100 # Number of experiments\n",
        "\n",
        "D = 360 # Bitstring length\n",
        "print('=================', D, '=================')\n",
        "\n",
        "MAX_EVALS = 100*D # Maximum number of function evaluations carried on by gabo (may require less thatn those)\n",
        "\n",
        "#Function\n",
        "testbed = [maxones, deceptive, boundedly, royalroad8, mixed] # Testbed\n",
        "name = ['MaxOnes','GD3','GBD4','RR1','Mixed']\n",
        "FUNCTION = 4 # Testing the mixed function. Change the number accordingly\n",
        "OPTIMUM = [D, 10*D, D, D, 47*D//20] # Optimum value of the associated test function\n",
        "\n",
        "print('***************', name[FUNCTION], '***************')\n",
        "\n",
        "print('SGOAL SR MAX STD ITER STD BUDGET STD')\n",
        "fx = [] # Function value reached by the sgoal\n",
        "iter = [] # Iter when the best value is reached by the sgoal\n",
        "budget = [] # Number of fuction evaluations carried on by the sgoal\n",
        "sr = 0 # Success rate of the sgoal\n",
        "\n",
        "#GABO experiment\n",
        "for i in range(EXP):\n",
        "  init()\n",
        "  y, fy = GABO(testbed[FUNCTION], MAX_EVALS, bitstring(D))\n",
        "  fx.append(fy)\n",
        "  sr += 1 if success_evaluation(OPTIMUM[FUNCTION]) != -1 else 0\n",
        "  iter.append(best_evaluation()[1]+1)\n",
        "  budget.append(evaluations())\n",
        "report('GABO', fx, iter, budget, sr)\n",
        "print(fx)\n",
        "df = df.assign(GABO = fx)\n",
        "dfiter = dfiter.assign(GABO = iter)\n",
        "\n",
        "#GSC1 experiment\n",
        "fx = [] \n",
        "iter = [] \n",
        "budget = []\n",
        "sr = 0\n",
        "for i in range(EXP):\n",
        "  init()\n",
        "  y, fy = GSC1(testbed[FUNCTION], MAX_EVALS, bitstring(D))\n",
        "  fx.append(fy)\n",
        "  sr += 1 if success_evaluation(OPTIMUM[FUNCTION]) != -1 else 0\n",
        "  iter.append(best_evaluation()[1]+1)\n",
        "  budget.append(MAX_EVALS)\n",
        "report('GSC1', fx, iter, budget, sr)\n",
        "print(fx)\n",
        "df = df.assign(GSC1 = fx)\n",
        "dfiter = dfiter.assign(GSC1 = iter)\n",
        "\n",
        "#RMHC experiment\n",
        "fx = [] \n",
        "iter = [] \n",
        "budget = []\n",
        "sr = 0\n",
        "for i in range(EXP):\n",
        "  init()\n",
        "  y, fy = RMHC(testbed[FUNCTION], MAX_EVALS, bitstring(D))\n",
        "  fx.append(fy)\n",
        "  sr += 1 if success_evaluation(OPTIMUM[FUNCTION]) != -1 else 0\n",
        "  iter.append(best_evaluation()[1]+1)\n",
        "  budget.append(MAX_EVALS)\n",
        "report('RMHC', fx, iter, budget, sr)\n",
        "print(fx)\n",
        "df = df.assign(RMHC = fx)\n",
        "dfiter = dfiter.assign(RMHC = iter)\n",
        "\n",
        "#GGA\n",
        "fx = [] \n",
        "iter = [] \n",
        "budget = []\n",
        "sr = 0\n",
        "for i in range(EXP):\n",
        "  init()\n",
        "  P, fP, evals = basic_binary_SSGA(testbed[FUNCTION], MAX_EVALS, 100, D)\n",
        "  sr += 1 if success_evaluation(OPTIMUM[FUNCTION]) != -1 else 0\n",
        "  fy, k = best_evaluation()\n",
        "  fx.append(fy)\n",
        "  iter.append(k+1)\n",
        "  budget.append(MAX_EVALS)\n",
        "report('SSGA', fx, iter, budget, sr)\n",
        "print(fx)\n",
        "df = df.assign(SSGA = fx)\n",
        "dfiter = dfiter.assign(SSGA = iter)\n",
        "\n",
        "#GGA\n",
        "fx = [] \n",
        "iter = [] \n",
        "budget = []\n",
        "sr = 0\n",
        "for i in range(EXP):\n",
        "  init()\n",
        "  P, fP, evals = basic_binary_GGA(testbed[FUNCTION], MAX_EVALS, 100, D)\n",
        "  sr += 1 if success_evaluation(OPTIMUM[FUNCTION]) != -1 else 0\n",
        "  fy, k = best_evaluation()\n",
        "  fx.append(fy)\n",
        "  iter.append(k+1)\n",
        "  budget.append(MAX_EVALS)\n",
        "report('GGA', fx, iter, budget, sr)\n",
        "print(fx)\n",
        "df = df.assign(GGA = fx)\n",
        "dfiter = dfiter.assign(GGA = iter)\n",
        "\n",
        "#CHAVELA\n",
        "fx = [] \n",
        "iter = [] \n",
        "budget = []\n",
        "sr = 0\n",
        "for i in range(EXP):\n",
        "  init()\n",
        "  P, fP, evals, rates = CHAVELA(testbed[FUNCTION], MAX_EVALS, [simple_crossover, bit_mutation, transposition], bitstring_population(100,D))\n",
        "  sr += 1 if success_evaluation(OPTIMUM[FUNCTION]) != -1 else 0\n",
        "  fy, k = best_evaluation()\n",
        "  fx.append(fy)\n",
        "  iter.append(k+1)\n",
        "  budget.append(MAX_EVALS)\n",
        "report('CHAVELA', fx, iter, budget, sr)\n",
        "print(fx)\n",
        "df = df.assign(CHAVELA = fx)\n",
        "dfiter = dfiter.assign(CHAVELA = iter)"
      ]
    },
    {
      "cell_type": "markdown",
      "source": [
        "Plotting statistical information. If you want to store images, first connect to your drive, define a folder where to store images (here we use the folder's name /sgoal/MyDrive/WCCI_2022/), and uncomment file relative code lines:"
      ],
      "metadata": {
        "id": "owJhgGU4gjol"
      }
    },
    {
      "cell_type": "code",
      "source": [
        "import matplotlib.pyplot as plt\n",
        "import numpy as np\n",
        "\n",
        "#path = \"/sgoal/MyDrive/WCCI_2022/\"\n",
        "\n",
        "myFig = plt.figure();\n",
        "df.boxplot(grid=False) \n",
        "#figName= path+name[FUNCTION] + str(D) + \".png\"\n",
        "#myFig.savefig(figName, format=\"png\")\n",
        "\n",
        "\n",
        "myFig = plt.figure();\n",
        "dfiter.boxplot(grid=False) \n",
        "#figName= path+name[FUNCTION] + str(D) + \"_iter.png\"\n",
        "#myFig.savefig(figName, format=\"png\")"
      ],
      "metadata": {
        "colab": {
          "base_uri": "https://localhost:8080/",
          "height": 530
        },
        "id": "utlqKLKfhIEi",
        "outputId": "387f5d3d-b82e-4727-c6d9-1ea2563aa104"
      },
      "execution_count": 12,
      "outputs": [
        {
          "output_type": "execute_result",
          "data": {
            "text/plain": [
              "<matplotlib.axes._subplots.AxesSubplot at 0x7f168966a8d0>"
            ]
          },
          "metadata": {},
          "execution_count": 12
        },
        {
          "output_type": "display_data",
          "data": {
            "text/plain": [
              "<Figure size 432x288 with 1 Axes>"
            ],
            "image/png": "[encoded data removed]"
          },
          "metadata": {
            "needs_background": "light"
          }
        },
        {
          "output_type": "display_data",
          "data": {
            "text/plain": [
              "<Figure size 432x288 with 1 Axes>"
            ],
            "image/png": "[encoded data removed]"
          },
          "metadata": {
            "needs_background": "light"
          }
        }
      ]
    }
  ],
  "metadata": {
    "colab": {
      "name": "wcci2022-gabo.ipynb",
      "provenance": [],
      "authorship_tag": "ABX9TyPV08EO7TRBsWYR/uNJqS+E",
      "include_colab_link": true
    },
    "kernelspec": {
      "display_name": "Python 3",
      "name": "python3"
    },
    "language_info": {
      "name": "python"
    }
  },
  "nbformat": 4,
  "nbformat_minor": 0
}