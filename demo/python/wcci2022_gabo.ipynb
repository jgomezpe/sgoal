{
  "cells": [
    {
      "cell_type": "markdown",
      "metadata": {
        "id": "view-in-github",
        "colab_type": "text"
      },
      "source": [
        "<a href=\"https://colab.research.google.com/github/jgomezpe/sgoal/blob/main/demo/python/wcci2022_gabo.ipynb\" target=\"_parent\"><img src=\"https://colab.research.google.com/assets/colab-badge.svg\" alt=\"Open In Colab\"/></a>"
      ]
    },
    {
      "cell_type": "markdown",
      "metadata": {
        "id": "MqrfRRhyFHDB"
      },
      "source": [
        "# GABO: Gene Analysis Base Optimization\n",
        "This notebook contains the python code used for getting the results reported in the paper \"GABO: Gene Analysis Base Optimization\" written by Professors Jonatan Gomez and Elizabeth Leon from Universidad Nacional de Colombia and published in the IEEE World Congress on Computational Intelligence - WCCI 2022 Proceedings https://doi.org/10.1109/CEC55065.2022.9870237."
      ]
    },
    {
      "cell_type": "markdown",
      "metadata": {
        "id": "UHGmtJB9F81S"
      },
      "source": [
        "Algorithms are written using the **sgoal** python package that can be obtained from the github of professor Jonatan Gomez: https://github.com/jgomezpe/sgoal/. \n",
        "To run scripts in this notebook, you must install it from the github repository:"
      ]
    },
    {
      "cell_type": "code",
      "source": [
        "!pip install git+https://github.com/jgomezpe/sgoal/"
      ],
      "metadata": {
        "id": "dUEgDzBAt8Kr"
      },
      "execution_count": null,
      "outputs": []
    },
    {
      "cell_type": "markdown",
      "metadata": {
        "id": "iVJQ_bk3c4nk"
      },
      "source": [
        "##Experiments\n",
        "Now you can run each one of the algorithms on the testbed functions. Here we compare GABO, GSC1, RMHC, GGA, SSGA, and CHAVELA"
      ]
    },
    {
      "cell_type": "code",
      "execution_count": 2,
      "metadata": {
        "id": "0k0Xa6bYMLaT",
        "colab": {
          "base_uri": "https://localhost:8080/",
          "height": 785
        },
        "outputId": "b59f06c9-2fe4-4736-80a7-9c42fbad5f2b"
      },
      "outputs": [
        {
          "output_type": "stream",
          "name": "stdout",
          "text": [
            "================= 120 =================\n",
            "*************** Mixed ***************\n",
            "SGOAL SR MAX STD ITER STD BUDGET STD\n",
            "GABO 40.0 274.0 8.0 8073.9 2818.75 12000.0 0.0\n",
            "[282, 282, 274, 258, 266, 266, 282, 282, 274, 274]\n",
            "GSC1 0.0 209.4 1.5 11999.0 0.0 12000.0 0.0\n",
            "[211, 209, 209, 208, 211, 207, 210, 208, 209, 212]\n",
            "RMHC 0.0 267.0 2.41 6641.3 1796.38 12000.0 0.0\n",
            "[265, 270, 268, 267, 269, 266, 270, 268, 262, 265]\n",
            "SSGA 0.0 243.6 8.2 4004.8 2015.39 12000.0 0.0\n",
            "[249, 255, 226, 239, 241, 253, 240, 250, 245, 238]\n",
            "GGA 0.0 244.6 7.66 6978.8 3292.82 12000.0 0.0\n",
            "[245, 240, 245, 243, 249, 252, 226, 251, 241, 254]\n",
            "CHAVELA 30.0 276.0 6.13 11178.6 537.28 12000.0 0.0\n",
            "[281, 275, 274, 282, 266, 281, 282, 282, 268, 269]\n"
          ]
        },
        {
          "output_type": "execute_result",
          "data": {
            "text/plain": [
              "<matplotlib.axes._subplots.AxesSubplot at 0x7f4957056c40>"
            ]
          },
          "metadata": {},
          "execution_count": 2
        },
        {
          "output_type": "display_data",
          "data": {
            "text/plain": [
              "<Figure size 432x288 with 1 Axes>"
            ],
            "image/png": "[encoded data removed]"
          },
          "metadata": {
            "needs_background": "light"
          }
        },
        {
          "output_type": "display_data",
          "data": {
            "text/plain": [
              "<Figure size 432x288 with 1 Axes>"
            ],
            "image/png": "[encoded data removed]"
          },
          "metadata": {
            "needs_background": "light"
          }
        }
      ],
      "source": [
        "import sgoal\n",
        "from sgoal.binary import maxones\n",
        "from sgoal.binary import deceptive\n",
        "from sgoal.binary import boundedly\n",
        "from sgoal.binary import royalroad8\n",
        "from sgoal.binary import mixed\n",
        "from sgoal.binary import bitstring\n",
        "from sgoal.binary import bit_mutation\n",
        "from sgoal.binary import bitstring_population\n",
        "from sgoal.core import simple_crossover\n",
        "from sgoal.core import transposition\n",
        "from sgoal.core import init\n",
        "from sgoal.core import best_evaluation\n",
        "from sgoal.core import success_evaluation\n",
        "from sgoal.core import evaluations\n",
        "from sgoal.util import stats\n",
        "from sgoal.binary import GSC1\n",
        "from sgoal.binary import RMHC\n",
        "from sgoal.ga import basic_binary_GGA\n",
        "from sgoal.ga import basic_binary_SSGA\n",
        "from sgoal.chavela import CHAVELA\n",
        "from sgoal.gabo import GABO\n",
        "\n",
        "import matplotlib.pyplot as plt\n",
        "import numpy as np\n",
        "import pandas as pd\n",
        "\n",
        "df = pd.DataFrame()\n",
        "dfiter = pd.DataFrame()\n",
        "\n",
        "def round(x): return (int(100*x+0.5))/100\n",
        "\n",
        "# Paper reported values\n",
        "def report(sgoal, fx, iter, budget, sr):\n",
        "  sr *= 100/len(fx)\n",
        "  avg, std = stats(fx)\n",
        "  avg, std = round(avg), round(std)  \n",
        "  avg_iter, std_iter = stats(iter)\n",
        "  avg_iter, std_iter = round(avg_iter), round(std_iter)  \n",
        "  avg_budget, std_budget = stats(budget)\n",
        "  avg_budget, std_budget = round(avg_budget), round(std_budget)  \n",
        "  print(sgoal, sr, avg, std, avg_iter, std_iter, avg_budget,  std_budget) \n",
        "  return avg, std, avg_iter, std_iter, avg_budget, std_budget\n",
        "\n",
        "EXP = 10 # Number of experiments\n",
        "\n",
        "D = 120 # Bitstring length\n",
        "\n",
        "MAX_EVALS = 100*D # Maximum number of function evaluations carried on by gabo (may require less thatn those)\n",
        "\n",
        "#Function\n",
        "testbed = [maxones, deceptive, boundedly, royalroad8, mixed] # Testbed\n",
        "name = ['MaxOnes','GD3','GBD4','RR1','Mixed']\n",
        "FUNCTION = 4 # Testing the deceptive function. Change the number accordingly\n",
        "OPTIMUM = [D, 10*D, D, D, 47*D//20] # Optimum value of the associated test function\n",
        "\n",
        "print('=================', D, '=================')\n",
        "print('***************', name[FUNCTION], '***************')\n",
        "print('SGOAL SR MAX STD ITER STD BUDGET STD')\n",
        "\n",
        "fx = [] # Function value reached by the sgoal\n",
        "iter = [] # Iter when the best value is reached by the sgoal\n",
        "budget = [] # Number of fuction evaluations carried on by the sgoal\n",
        "sr = 0 # Success rate of the sgoal\n",
        "\n",
        "#GABO experiment\n",
        "for i in range(EXP):\n",
        "  init()\n",
        "  y, fy = GABO(testbed[FUNCTION], MAX_EVALS, bitstring(D))\n",
        "  fx.append(fy)\n",
        "  sr += 1 if success_evaluation(OPTIMUM[FUNCTION]) != -1 else 0\n",
        "  iter.append(best_evaluation()[1]+1)\n",
        "  budget.append(evaluations())\n",
        "report('GABO', fx, iter, budget, sr)\n",
        "print(fx)\n",
        "df = df.assign(GABO = fx)\n",
        "dfiter = dfiter.assign(GABO = iter)\n",
        "\n",
        "#GSC1 experiment\n",
        "fx = [] \n",
        "iter = [] \n",
        "budget = []\n",
        "sr = 0\n",
        "for i in range(EXP):\n",
        "  init()\n",
        "  y, fy = GSC1(testbed[FUNCTION], MAX_EVALS, bitstring(D))\n",
        "  fx.append(fy)\n",
        "  sr += 1 if success_evaluation(OPTIMUM[FUNCTION]) != -1 else 0\n",
        "  iter.append(best_evaluation()[1]+1)\n",
        "  budget.append(MAX_EVALS)\n",
        "report('GSC1', fx, iter, budget, sr)\n",
        "print(fx)\n",
        "df = df.assign(GSC1 = fx)\n",
        "dfiter = dfiter.assign(GSC1 = iter)\n",
        "\n",
        "#RMHC experiment\n",
        "fx = [] \n",
        "iter = [] \n",
        "budget = []\n",
        "sr = 0\n",
        "for i in range(EXP):\n",
        "  init()\n",
        "  y, fy = RMHC(testbed[FUNCTION], MAX_EVALS, bitstring(D))\n",
        "  fx.append(fy)\n",
        "  sr += 1 if success_evaluation(OPTIMUM[FUNCTION]) != -1 else 0\n",
        "  iter.append(best_evaluation()[1]+1)\n",
        "  budget.append(MAX_EVALS)\n",
        "report('RMHC', fx, iter, budget, sr)\n",
        "print(fx)\n",
        "df = df.assign(RMHC = fx)\n",
        "dfiter = dfiter.assign(RMHC = iter)\n",
        "\n",
        "#GGA\n",
        "fx = [] \n",
        "iter = [] \n",
        "budget = []\n",
        "sr = 0\n",
        "for i in range(EXP):\n",
        "  init()\n",
        "  P, fP, evals = basic_binary_SSGA(testbed[FUNCTION], MAX_EVALS, 100, D)\n",
        "  sr += 1 if success_evaluation(OPTIMUM[FUNCTION]) != -1 else 0\n",
        "  fy, k = best_evaluation()\n",
        "  fx.append(fy)\n",
        "  iter.append(k+1)\n",
        "  budget.append(MAX_EVALS)\n",
        "report('SSGA', fx, iter, budget, sr)\n",
        "print(fx)\n",
        "df = df.assign(SSGA = fx)\n",
        "dfiter = dfiter.assign(SSGA = iter)\n",
        "\n",
        "#GGA\n",
        "fx = [] \n",
        "iter = [] \n",
        "budget = []\n",
        "sr = 0\n",
        "for i in range(EXP):\n",
        "  init()\n",
        "  P, fP, evals = basic_binary_GGA(testbed[FUNCTION], MAX_EVALS, 100, D)\n",
        "  sr += 1 if success_evaluation(OPTIMUM[FUNCTION]) != -1 else 0\n",
        "  fy, k = best_evaluation()\n",
        "  fx.append(fy)\n",
        "  iter.append(k+1)\n",
        "  budget.append(MAX_EVALS)\n",
        "report('GGA', fx, iter, budget, sr)\n",
        "print(fx)\n",
        "df = df.assign(GGA = fx)\n",
        "dfiter = dfiter.assign(GGA = iter)\n",
        "\n",
        "#CHAVELA\n",
        "fx = [] \n",
        "iter = [] \n",
        "budget = []\n",
        "sr = 0\n",
        "for i in range(EXP):\n",
        "  init()\n",
        "  P, fP, evals, rates = CHAVELA(testbed[FUNCTION], MAX_EVALS, [simple_crossover, bit_mutation, transposition], bitstring_population(100,D))\n",
        "  sr += 1 if success_evaluation(OPTIMUM[FUNCTION]) != -1 else 0\n",
        "  fy, k = best_evaluation()\n",
        "  fx.append(fy)\n",
        "  iter.append(k+1)\n",
        "  budget.append(MAX_EVALS)\n",
        "report('CHAVELA', fx, iter, budget, sr)\n",
        "print(fx)\n",
        "df = df.assign(CHAVELA = fx)\n",
        "dfiter = dfiter.assign(CHAVELA = iter)\n",
        "\n",
        "\n",
        "myFig = plt.figure();\n",
        "df.boxplot(grid=False) \n",
        "myFig = plt.figure();\n",
        "dfiter.boxplot(grid=False)\n"
      ]
    },
    {
      "cell_type": "markdown",
      "source": [
        "If we want to store performance graphics define a folder and we run the following script (here we mount our Google Drive as /drive/ and use folder /drive/MyDrive/WCCI_20022/):"
      ],
      "metadata": {
        "id": "Uy7XO8r2-hmK"
      }
    },
    {
      "cell_type": "code",
      "source": [
        "from google.colab import drive\n",
        "import os, sys\n",
        "import matplotlib.pyplot as plt\n",
        "import numpy as np\n",
        "\n",
        "drive.mount('/drive', force_remount=True) \n",
        "\n",
        "path = \"/drive/MyDrive/WCCI_2022/\"\n",
        "\n",
        "myFig = plt.figure();\n",
        "df.boxplot(grid=False) \n",
        "figName= path+name[FUNCTION] + str(D) + \".png\"\n",
        "myFig.savefig(figName, format=\"png\")\n",
        "\n",
        "\n",
        "myFig = plt.figure();\n",
        "dfiter.boxplot(grid=False) \n",
        "figName= path+name[FUNCTION] + str(D) + \"_iter.png\"\n",
        "myFig.savefig(figName, format=\"png\")"
      ],
      "metadata": {
        "id": "Ig6fjrw7-bsz",
        "colab": {
          "base_uri": "https://localhost:8080/",
          "height": 530
        },
        "outputId": "c624dd9f-bf91-44ca-f418-3ee74d3b1531"
      },
      "execution_count": 4,
      "outputs": [
        {
          "output_type": "stream",
          "name": "stdout",
          "text": [
            "Mounted at /drive\n"
          ]
        },
        {
          "output_type": "display_data",
          "data": {
            "text/plain": [
              "<Figure size 432x288 with 1 Axes>"
            ],
            "image/png": "[encoded data removed]"
          },
          "metadata": {
            "needs_background": "light"
          }
        },
        {
          "output_type": "display_data",
          "data": {
            "text/plain": [
              "<Figure size 432x288 with 1 Axes>"
            ],
            "image/png": "[encoded data removed]"
          },
          "metadata": {
            "needs_background": "light"
          }
        }
      ]
    }
  ],
  "metadata": {
    "colab": {
      "provenance": [],
      "include_colab_link": true
    },
    "kernelspec": {
      "display_name": "Python 3",
      "name": "python3"
    },
    "language_info": {
      "name": "python"
    },
    "accelerator": "GPU"
  },
  "nbformat": 4,
  "nbformat_minor": 0
}