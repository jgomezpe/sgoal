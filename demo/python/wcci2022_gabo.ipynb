{
  "nbformat": 4,
  "nbformat_minor": 0,
  "metadata": {
    "colab": {
      "name": "wcci2022-gabo.ipynb",
      "provenance": []
    },
    "kernelspec": {
      "name": "python3",
      "display_name": "Python 3"
    },
    "language_info": {
      "name": "python"
    }
  },
  "cells": [
    {
      "cell_type": "markdown",
      "source": [
        "# GABO: Gene Analysis Base Optimization\n",
        "This notebook contains the python code used for getting the results reported in the paper \"GABO: Gene Analysis Base Optimization\" written by Professors Jonatan Gomez and Elizabeth Leon from Universidad Nacional de Colombia and accepted in the IEEE World Congress on Computational Intelligence - WCCI 2022."
      ],
      "metadata": {
        "id": "MqrfRRhyFHDB"
      }
    },
    {
      "cell_type": "markdown",
      "source": [
        "Algorithms are written using the **sgoal** library that can be obtained from the guthub of professor Jonatan Gomez: https://github.com/jgomezpe/. \n",
        "To run scripts in this notebook, you must clone the repository running the following script. It will create the *sgoal* folder. If you already cloned it and you do not want to update it, just skip this step:"
      ],
      "metadata": {
        "id": "UHGmtJB9F81S"
      }
    },
    {
      "cell_type": "code",
      "source": [
        "!git clone https://github.com/jgomezpe/sgoal.git"
      ],
      "metadata": {
        "colab": {
          "base_uri": "https://localhost:8080/"
        },
        "id": "LgeABK9jHo02",
        "outputId": "15142abc-7eb8-42fb-ae02-387bc62fa955"
      },
      "execution_count": null,
      "outputs": [
        {
          "output_type": "stream",
          "name": "stdout",
          "text": [
            "Cloning into 'sgoal'...\n",
            "remote: Enumerating objects: 28, done.\u001b[K\n",
            "remote: Counting objects: 100% (28/28), done.\u001b[K\n",
            "remote: Compressing objects: 100% (26/26), done.\u001b[K\n",
            "remote: Total 28 (delta 7), reused 0 (delta 0), pack-reused 0\u001b[K\n",
            "Unpacking objects: 100% (28/28), done.\n"
          ]
        }
      ]
    },
    {
      "cell_type": "markdown",
      "source": [
        "If you have already cloned the repository with the **sgoal** library and you want to retrieve the newest one, run the following script and then run option *Restart runtime* under *Runtime* menu, otherwise skip this step:"
      ],
      "metadata": {
        "id": "rC6SP4w3Hv2L"
      }
    },
    {
      "cell_type": "code",
      "execution_count": 5,
      "metadata": {
        "colab": {
          "base_uri": "https://localhost:8080/"
        },
        "id": "swwjCXFzECT3",
        "outputId": "85ce46e3-1858-4f4b-ed82-d8377721d05f"
      },
      "outputs": [
        {
          "output_type": "stream",
          "name": "stdout",
          "text": [
            "/content/sgoal\n",
            "Already up to date.\n"
          ]
        }
      ],
      "source": [
        "%cd /content/sgoal\n",
        "! git pull "
      ]
    },
    {
      "cell_type": "markdown",
      "source": [
        "Now you have to mount the *sgoal* folder and you have to add the python path to the system:"
      ],
      "metadata": {
        "id": "a-M-J_tHGnOk"
      }
    },
    {
      "cell_type": "code",
      "source": [
        "from google.colab import drive\n",
        "import os, sys\n",
        "\n",
        "drive.mount('/sgoal', force_remount=True) \n",
        "# adding python to the system path\n",
        "sys.path.insert(0, 'sgoal/python/')"
      ],
      "metadata": {
        "colab": {
          "base_uri": "https://localhost:8080/"
        },
        "id": "JUj0sUz6G3q0",
        "outputId": "24111779-9c14-4f33-e953-de2afe0999ff"
      },
      "execution_count": 6,
      "outputs": [
        {
          "output_type": "stream",
          "name": "stdout",
          "text": [
            "Mounted at /sgoal\n"
          ]
        }
      ]
    },
    {
      "cell_type": "markdown",
      "source": [
        "Now you can run each one of the algorithms on the testbed functions\n"
      ],
      "metadata": {
        "id": "PEQpVkK_ONwX"
      }
    },
    {
      "cell_type": "markdown",
      "source": [
        "##Experiment 1\n",
        "Comparing GABO, GSC1, and RMHC"
      ],
      "metadata": {
        "id": "iVJQ_bk3c4nk"
      }
    },
    {
      "cell_type": "code",
      "source": [
        "from binary import maxones\n",
        "from binary import deceptive\n",
        "from binary import boundedly\n",
        "from binary import royalroad8\n",
        "from binary import mixed\n",
        "from binary import bitstring\n",
        "from binary import bit_mutation\n",
        "from binary import bitstring_population\n",
        "from sgoal import simple_crossover\n",
        "from sgoal import transposition\n",
        "from sgoal import init\n",
        "from sgoal import best_evaluation\n",
        "from sgoal import success_evaluation\n",
        "from sgoal import stats\n",
        "from sgoal import MAXIMIZE\n",
        "from binary import GSC1\n",
        "from binary import RMHC\n",
        "from gabo import GABO\n",
        "\n",
        "# Paper reported values\n",
        "def report(sgoal, fx, iter, sr):\n",
        "  sr *= 100/len(fx)\n",
        "  avg, std = stats(fx)\n",
        "  avg_iter, std_iter = stats(iter)\n",
        "  print(\"Results for\", sgoal)\n",
        "  print(\"success rate: \", sr, \"%\", sep='')\n",
        "  print(\"best: \", avg, \"+/-\", std, sep='')\n",
        "  print(\"iter: \", avg_iter, \"+/-\", std_iter, sep='')\n",
        "  print('*********************************')\n",
        "  return avg, std, avg_iter, std_iter\n",
        "\n",
        "#Global variables\n",
        "testbed = [maxones, deceptive, boundedly, royalroad8, mixed] # Testbed\n",
        "name = ['MaxOnes','GD3','GBD4','RR1','Mixed']\n",
        "LENGTH = [100, 30, 40, 64, 100] # Bitstring length\n",
        "MAX_EVALS = [205, 500, 1000, 6400, 5000] # Maximum number of function evaluations\n",
        "OPTIMUM = [LENGTH[0], 10*LENGTH[1], LENGTH[2], LENGTH[3], 47*LENGTH[4]//20] # Optimum value of the associated test function\n",
        "EXP = 100 # Number of experiments\n",
        "\n",
        "for FUNCTION in range(len(testbed)): # Testing the deceptive function. Change the number accordingly\n",
        "  print('***************', name[FUNCTION], '***************')\n",
        "  fx = [] # Function value reached by the sgoal\n",
        "  iter = [] # Iter when the best value is reached by the sgoal\n",
        "  sr = 0 # Success rate of the sgoal\n",
        "\n",
        "  #GABO experiment\n",
        "  for i in range(EXP):\n",
        "    init()\n",
        "    y, fy = GABO(testbed[FUNCTION], MAX_EVALS[FUNCTION], bitstring(LENGTH[FUNCTION]))\n",
        "    fx.append(fy)\n",
        "    sr += 1 if success_evaluation(OPTIMUM[FUNCTION]) != -1 else 0\n",
        "    iter.append(best_evaluation()[1])\n",
        "  report('GABO', fx, iter, sr)\n",
        "\n",
        "  #GSC1 experiment\n",
        "  fx = [] \n",
        "  iter = [] \n",
        "  sr = 0\n",
        "  for i in range(EXP):\n",
        "    init()\n",
        "    y, fy = GSC1(testbed[FUNCTION], MAX_EVALS[FUNCTION], bitstring(LENGTH[FUNCTION]))\n",
        "    fx.append(fy)\n",
        "    sr += 1 if success_evaluation(OPTIMUM[FUNCTION]) != -1 else 0\n",
        "    iter.append(best_evaluation()[1])\n",
        "  report('GSC1', fx, iter, sr)\n",
        "\n",
        "  #RMHC experiment\n",
        "  fx = [] \n",
        "  iter = [] \n",
        "  sr = 0\n",
        "  for i in range(EXP):\n",
        "    init()\n",
        "    y, fy = RMHC(testbed[FUNCTION], MAX_EVALS[FUNCTION], bitstring(LENGTH[FUNCTION]))\n",
        "    fx.append(fy)\n",
        "    sr += 1 if success_evaluation(OPTIMUM[FUNCTION]) != -1 else 0\n",
        "    iter.append(best_evaluation()[1])\n",
        "  report('RMHC', fx, iter, sr)"
      ],
      "metadata": {
        "colab": {
          "base_uri": "https://localhost:8080/"
        },
        "id": "0k0Xa6bYMLaT",
        "outputId": "c36872d8-3365-445d-8299-636ddab1264d"
      },
      "execution_count": 7,
      "outputs": [
        {
          "output_type": "stream",
          "name": "stdout",
          "text": [
            "*************** MaxOnes ***************\n",
            "Results for GABO\n",
            "success rate: 100.0%\n",
            "best: 100.0+/-0.0\n",
            "iter: 197.92+/-3.248630480679511\n",
            "*********************************\n",
            "Results for GSC1\n",
            "success rate: 0.0%\n",
            "best: 92.64+/-2.1564786110694447\n",
            "iter: 203.0+/-0.0\n",
            "*********************************\n",
            "Results for RMHC\n",
            "success rate: 0.0%\n",
            "best: 93.24+/-2.0155396299750605\n",
            "iter: 191.28+/-11.185776682912994\n",
            "*********************************\n",
            "*************** GD3 ***************\n",
            "Results for GABO\n",
            "success rate: 97.0%\n",
            "best: 299.92+/-0.4833218389437821\n",
            "iter: 331.03+/-124.52336768655107\n",
            "*********************************\n",
            "Results for GSC1\n",
            "success rate: 1.0%\n",
            "best: 267.62+/-9.172545993343393\n",
            "iter: 379.72+/-151.26745056356313\n",
            "*********************************\n",
            "Results for RMHC\n",
            "success rate: 0.0%\n",
            "best: 285.06+/-2.9993999399879976\n",
            "iter: 88.53+/-41.01815573621027\n",
            "*********************************\n",
            "*************** GBD4 ***************\n",
            "Results for GABO\n",
            "success rate: 93.0%\n",
            "best: 39.89+/-0.44485952839070475\n",
            "iter: 557.38+/-230.09453622370089\n",
            "*********************************\n",
            "Results for GSC1\n",
            "success rate: 13.0%\n",
            "best: 33.38+/-4.265630082414552\n",
            "iter: 957.1+/-167.50423875233722\n",
            "*********************************\n",
            "Results for RMHC\n",
            "success rate: 0.0%\n",
            "best: 31.37+/-0.9555626614722875\n",
            "iter: 122.54+/-47.785441297533275\n",
            "*********************************\n",
            "*************** RR1 ***************\n",
            "Results for GABO\n",
            "success rate: 92.0%\n",
            "best: 62.96+/-4.331096858764531\n",
            "iter: 2675.76+/-799.3533526545066\n",
            "*********************************\n",
            "Results for GSC1\n",
            "success rate: 8.0%\n",
            "best: 48.72+/-9.128066607995367\n",
            "iter: 6398.0+/-0.0\n",
            "*********************************\n",
            "Results for RMHC\n",
            "success rate: 57.0%\n",
            "best: 59.76+/-5.59485477916988\n",
            "iter: 4461.97+/-1284.9794819762687\n",
            "*********************************\n",
            "*************** Mixed ***************\n",
            "Results for GABO\n",
            "success rate: 89.0%\n",
            "best: 233.36+/-5.563308368228389\n",
            "iter: 2947.15+/-656.889128772885\n",
            "*********************************\n",
            "Results for GSC1\n",
            "success rate: 0.0%\n",
            "best: 172.96+/-2.734666341621954\n",
            "iter: 3612.05+/-1717.114244160824\n",
            "*********************************\n",
            "Results for RMHC\n",
            "success rate: 0.0%\n",
            "best: 210.43+/-8.716943271583222\n",
            "iter: 3160.07+/-1149.0807739667391\n",
            "*********************************\n"
          ]
        }
      ]
    }
  ]
}